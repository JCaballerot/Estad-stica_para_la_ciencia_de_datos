{
  "nbformat": 4,
  "nbformat_minor": 0,
  "metadata": {
    "colab": {
      "provenance": [],
      "authorship_tag": "ABX9TyOncxfx2yN+gDIvp8F/XpEr",
      "include_colab_link": true
    },
    "kernelspec": {
      "name": "python3",
      "display_name": "Python 3"
    },
    "language_info": {
      "name": "python"
    }
  },
  "cells": [
    {
      "cell_type": "markdown",
      "metadata": {
        "id": "view-in-github",
        "colab_type": "text"
      },
      "source": [
        "<a href=\"https://colab.research.google.com/github/JCaballerot/Estadistica_para_la_ciencia_de_datos/blob/main/distribuciones/caso_III.ipynb\" target=\"_parent\"><img src=\"https://colab.research.google.com/assets/colab-badge.svg\" alt=\"Open In Colab\"/></a>"
      ]
    },
    {
      "cell_type": "markdown",
      "source": [
        "## Ejecicio de distribución normal"
      ],
      "metadata": {
        "id": "uzNWSyswSyPR"
      }
    },
    {
      "cell_type": "code",
      "execution_count": 27,
      "metadata": {
        "id": "SKCHmPiPSjSo"
      },
      "outputs": [],
      "source": [
        "import random\n",
        "import pandas as pd"
      ]
    },
    {
      "cell_type": "code",
      "source": [
        "resultados = []\n",
        "\n",
        "for i in range(1, 10_000_001):\n",
        "  dado1 = random.randrange(1, 7)\n",
        "  dado2 = random.randrange(1, 7)\n",
        "  resultado = [dado1 + dado2]\n",
        "  resultados = resultados.append(resultado)\n"
      ],
      "metadata": {
        "id": "bW9Sv_vaS33N"
      },
      "execution_count": null,
      "outputs": []
    },
    {
      "cell_type": "code",
      "source": [
        "len(resultados)"
      ],
      "metadata": {
        "colab": {
          "base_uri": "https://localhost:8080/"
        },
        "id": "fsFi_Sj2VZlg",
        "outputId": "7ff9afd9-7c05-4ac7-e845-afc228efd47b"
      },
      "execution_count": 33,
      "outputs": [
        {
          "output_type": "execute_result",
          "data": {
            "text/plain": [
              "298532"
            ]
          },
          "metadata": {},
          "execution_count": 33
        }
      ]
    },
    {
      "cell_type": "code",
      "source": [
        "pd.DataFrame({'resultado' : resultados}).hist()\n"
      ],
      "metadata": {
        "colab": {
          "base_uri": "https://localhost:8080/",
          "height": 469
        },
        "id": "ROstRQspT1KY",
        "outputId": "bc9139d1-ed42-4663-e2da-304118356140"
      },
      "execution_count": 34,
      "outputs": [
        {
          "output_type": "execute_result",
          "data": {
            "text/plain": [
              "array([[<Axes: title={'center': 'resultado'}>]], dtype=object)"
            ]
          },
          "metadata": {},
          "execution_count": 34
        },
        {
          "output_type": "display_data",
          "data": {
            "text/plain": [
              "<Figure size 640x480 with 1 Axes>"
            ],
            "image/png": "[encoded data removed]"
          },
          "metadata": {}
        }
      ]
    },
    {
      "cell_type": "markdown",
      "source": [
        "## Prueba Omnibus para demostrar normalidad en los datos"
      ],
      "metadata": {
        "id": "IeHcn61DX4ea"
      }
    },
    {
      "cell_type": "code",
      "source": [
        "\n",
        "pddd = pd.read_csv('bank.csv')\n"
      ],
      "metadata": {
        "id": "zb9nG76UX-dc"
      },
      "execution_count": 35,
      "outputs": []
    },
    {
      "cell_type": "code",
      "source": [
        "pddd.age.hist()"
      ],
      "metadata": {
        "colab": {
          "base_uri": "https://localhost:8080/",
          "height": 447
        },
        "id": "tmtygP1xYHGT",
        "outputId": "ff1e7ac2-6cb8-4110-fa69-8b8d96f937a9"
      },
      "execution_count": 36,
      "outputs": [
        {
          "output_type": "execute_result",
          "data": {
            "text/plain": [
              "<Axes: >"
            ]
          },
          "metadata": {},
          "execution_count": 36
        },
        {
          "output_type": "display_data",
          "data": {
            "text/plain": [
              "<Figure size 640x480 with 1 Axes>"
            ],
            "image/png": "[encoded data removed]"
          },
          "metadata": {}
        }
      ]
    },
    {
      "cell_type": "code",
      "source": [
        "\n",
        "from scipy.stats import normaltest\n",
        "\n",
        "#Ho: Los datos siguen una distribución normal\n",
        "#Ha: No hay evidencia para probar que los datos sigan distribución normal\n"
      ],
      "metadata": {
        "id": "t40p4Vgiauqx"
      },
      "execution_count": 37,
      "outputs": []
    },
    {
      "cell_type": "code",
      "source": [
        "# alpha = 1 - %Confianza\n",
        "def check_p_val(p_val, alpha):\n",
        "    if p_val < alpha:\n",
        "        print('Tenemos evidencia suficiente para rechazar la hipótesis nula.')\n",
        "    else:\n",
        "        print('No tenemos evidencia suficiente para rechazar la hipótesis nula.')"
      ],
      "metadata": {
        "id": "q-KaPfPsbTcY"
      },
      "execution_count": 40,
      "outputs": []
    },
    {
      "cell_type": "code",
      "source": [
        "stat, p_val = normaltest(pddd.age)"
      ],
      "metadata": {
        "id": "-9ya5vrAa-v5"
      },
      "execution_count": 38,
      "outputs": []
    },
    {
      "cell_type": "code",
      "source": [
        "check_p_val(p_val, 0.05)"
      ],
      "metadata": {
        "colab": {
          "base_uri": "https://localhost:8080/"
        },
        "id": "C0KgfCM7bNRa",
        "outputId": "71523517-20a5-4232-e154-71d450f88ca0"
      },
      "execution_count": 41,
      "outputs": [
        {
          "output_type": "stream",
          "name": "stdout",
          "text": [
            "Tenemos evidencia suficiente para rechazar la hipótesis nula.\n"
          ]
        }
      ]
    }
  ]
}