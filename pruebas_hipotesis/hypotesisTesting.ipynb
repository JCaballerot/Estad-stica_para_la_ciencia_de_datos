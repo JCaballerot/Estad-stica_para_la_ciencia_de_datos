{
  "nbformat": 4,
  "nbformat_minor": 0,
  "metadata": {
    "colab": {
      "provenance": [],
      "authorship_tag": "ABX9TyMvPjtQV8zj7cN2D/jZnGpp",
      "include_colab_link": true
    },
    "kernelspec": {
      "name": "python3",
      "display_name": "Python 3"
    },
    "language_info": {
      "name": "python"
    }
  },
  "cells": [
    {
      "cell_type": "markdown",
      "metadata": {
        "id": "view-in-github",
        "colab_type": "text"
      },
      "source": [
        "<a href=\"https://colab.research.google.com/github/JCaballerot/Estadistica_para_la_ciencia_de_datos/blob/main/pruebas_hipotesis/hypotesisTesting.ipynb\" target=\"_parent\"><img src=\"https://colab.research.google.com/assets/colab-badge.svg\" alt=\"Open In Colab\"/></a>"
      ]
    },
    {
      "cell_type": "markdown",
      "source": [
        "<h1 align=\"center\"><font size=\"5\">PRUEBAS DE HIPÓTESIS</font></h1>\n"
      ],
      "metadata": {
        "id": "AY7Rfwth2uFB"
      }
    },
    {
      "cell_type": "markdown",
      "source": [
        "## 1. Pruebas para una media\n"
      ],
      "metadata": {
        "id": "U4R_Ii_pzAr0"
      }
    },
    {
      "cell_type": "markdown",
      "source": [
        "**Z-test**\n",
        "\n",
        "Asumiendo que se conoce la varianza de la población, el Z-test es apropiado para grandes muestras (n>30)."
      ],
      "metadata": {
        "id": "RyNnGE4lzJ2s"
      }
    },
    {
      "cell_type": "markdown",
      "source": [
        "**T-test de una muestra**\n",
        "\n",
        "Es utilizado cuando la desviación estándar de la población es desconocida y el tamaño de la muestra es pequeño. La estadística de prueba T se calcula de manera similar al Z-test, pero usando la desviación estándar de la muestra\n",
        "𝑠\n",
        "s en lugar de\n",
        "𝜎\n",
        "σ."
      ],
      "metadata": {
        "id": "7wJUa22fzVa2"
      }
    },
    {
      "cell_type": "markdown",
      "source": [
        "---"
      ],
      "metadata": {
        "id": "VVLu92T5zqnI"
      }
    },
    {
      "cell_type": "markdown",
      "source": [
        "**Ejercicio: Z-test de una muestra**\n",
        "\n",
        "Verificar si la media de ventas diarias de una tienda es de 100 unidades."
      ],
      "metadata": {
        "id": "0XBIXDV2zlC5"
      }
    },
    {
      "cell_type": "code",
      "source": [
        "import numpy as np\n",
        "from statsmodels.stats.weightstats import ztest\n",
        "\n",
        "# Datos de muestra\n",
        "data = np.random.normal(105, 15, 50)  # Datos simulados"
      ],
      "metadata": {
        "id": "w2n_4mo7zwg0"
      },
      "execution_count": 1,
      "outputs": []
    },
    {
      "cell_type": "code",
      "source": [
        "# Z-test de una muestra\n",
        "z_statistic, p_value = ztest(data, value=100)\n",
        "\n",
        "# Resultados\n",
        "print(\"Z-statistic:\", z_statistic)\n",
        "print(\"P-value:\", p_value)\n"
      ],
      "metadata": {
        "id": "FRFkPyUpy59d"
      },
      "execution_count": null,
      "outputs": []
    },
    {
      "cell_type": "markdown",
      "source": [
        "## 2. Pruebas para dos medias\n"
      ],
      "metadata": {
        "id": "zTxQ4kMtz6Du"
      }
    },
    {
      "cell_type": "markdown",
      "source": [
        "**U de Mann-Whitney**\n",
        "\n",
        "Este test no paramétrico compara las medianas de dos muestras independientes. Es útil especialmente cuando las distribuciones de las muestras no cumplen con los supuestos de normalidad.\n",
        "\n",
        "---\n"
      ],
      "metadata": {
        "id": "gyiMotYyzUcA"
      }
    },
    {
      "cell_type": "markdown",
      "source": [
        "**Ejercicio: U de Mann-Whitney**\n",
        "\n",
        "Comparar los resultados de dos métodos de enseñanza diferentes en cuanto a las calificaciones obtenidas."
      ],
      "metadata": {
        "id": "mnvx6egg0B1o"
      }
    },
    {
      "cell_type": "code",
      "source": [
        "import numpy as np\n",
        "from scipy.stats import mannwhitneyu\n",
        "\n",
        "# Datos de muestra\n",
        "group1 = np.random.uniform(50, 90, 30)\n",
        "group2 = np.random.uniform(55, 95, 30)\n"
      ],
      "metadata": {
        "id": "W5q4H4YG0g5v"
      },
      "execution_count": null,
      "outputs": []
    },
    {
      "cell_type": "code",
      "source": [
        "# U de Mann-Whitney\n",
        "u_statistic, p_value = mannwhitneyu(group1, group2)\n",
        "\n",
        "# Resultados\n",
        "print(\"U-statistic:\", u_statistic)\n",
        "print(\"P-value:\", p_value)\n"
      ],
      "metadata": {
        "id": "nJ7uwPqw0jPL"
      },
      "execution_count": null,
      "outputs": []
    },
    {
      "cell_type": "markdown",
      "source": [
        "## 3.  Pruebas de Distribución\n"
      ],
      "metadata": {
        "id": "wZiFP2kP0sPI"
      }
    },
    {
      "cell_type": "markdown",
      "source": [
        "**Test de Kolmogorov-Smirnov (KS):**\n",
        "\n",
        "Este test compara una muestra contra una distribución de referencia para determinar si ambas distribuciones son diferentes. La estadística de prueba KS mide la distancia máxima entre las funciones de distribución acumulativa de ambas distribuciones.\n",
        "\n",
        "---"
      ],
      "metadata": {
        "id": "t_8qfG200wjk"
      }
    },
    {
      "cell_type": "markdown",
      "source": [
        "**Ejercicio: Test de Kolmogorov-Smirnov**\n",
        "\n",
        "Determinar si las calificaciones de una clase siguen una distribución normal."
      ],
      "metadata": {
        "id": "IkNc968606Ys"
      }
    },
    {
      "cell_type": "code",
      "source": [
        "import numpy as np\n",
        "from scipy import stats\n",
        "\n",
        "# Datos de muestra\n",
        "data1 = np.random.normal(75, 10, 40)  # Simulación con distribución normal\n"
      ],
      "metadata": {
        "id": "b7jAwUSq1J7E"
      },
      "execution_count": 5,
      "outputs": []
    },
    {
      "cell_type": "code",
      "source": [
        "# Test de Kolmogorov-Smirnov\n",
        "ks_statistic, p_value = stats.kstest(data, 'norm', args=(np.mean(data), np.std(data)))\n",
        "\n",
        "# Resultados\n",
        "print(\"KS-statistic:\", ks_statistic)\n",
        "print(\"P-value:\", p_value)"
      ],
      "metadata": {
        "id": "uSw3MAmF1L6s"
      },
      "execution_count": null,
      "outputs": []
    },
    {
      "cell_type": "markdown",
      "source": [
        "## 4. Correlaciones"
      ],
      "metadata": {
        "id": "o6zamH0a16Oy"
      }
    },
    {
      "cell_type": "markdown",
      "source": [
        "**Correlación de Pearson**\n",
        "\n",
        "Mide la relación lineal entre dos variables cuantitativas. Es adecuada cuando ambas variables están normalmente distribuidas. El coeficiente de Pearson varía entre -1 y 1, donde 1 indica una correlación positiva perfecta, -1 una correlación negativa perfecta, y 0 ninguna correlación."
      ],
      "metadata": {
        "id": "-hXiMI1G1-bB"
      }
    },
    {
      "cell_type": "markdown",
      "source": [
        "**Correlación de Spearman**\n",
        "\n",
        "Mide la relación monótona entre dos variables, ya sea lineal o no. Es útil cuando las variables no cumplen los supuestos de normalidad requeridos por Pearson. Al igual que Pearson, el coeficiente de Spearman varía entre -1 y 1."
      ],
      "metadata": {
        "id": "8Y8pjJYi2C6Q"
      }
    },
    {
      "cell_type": "markdown",
      "source": [
        "**Ejercicio: Correlación de Pearson**\n",
        "\n",
        "Determinar la relación entre el tiempo de estudio y las calificaciones obtenidas por los estudiantes.\n"
      ],
      "metadata": {
        "id": "WwNzV2po2KPZ"
      }
    },
    {
      "cell_type": "code",
      "source": [
        "import numpy as np\n",
        "from scipy.stats import pearsonr\n",
        "\n",
        "# Datos de muestra\n",
        "study_hours = np.random.normal(5, 1.5, 100)  # 100 registros\n",
        "grades = 10 + (2 * study_hours) + np.random.normal(0, 2, 100)  # Dependencia lineal con ruido\n"
      ],
      "metadata": {
        "id": "b_1sy5Y92QNM"
      },
      "execution_count": null,
      "outputs": []
    },
    {
      "cell_type": "code",
      "source": [
        "# Correlación de Pearson\n",
        "correlation, p_value = pearsonr(study_hours, grades)\n",
        "\n",
        "# Imprimir resultados\n",
        "print(\"Coeficiente de correlación de Pearson:\", correlation)\n",
        "print(\"P-value:\", p_value)"
      ],
      "metadata": {
        "id": "VA4vK-KG2RzA"
      },
      "execution_count": null,
      "outputs": []
    },
    {
      "cell_type": "markdown",
      "source": [
        "**Ejercicio: Correlación de Spearman**\n",
        "\n",
        "Evaluar la relación entre las horas de ejercicio por semana y la sensación general de bienestar reportada."
      ],
      "metadata": {
        "id": "p4wwnyCn2Psn"
      }
    },
    {
      "cell_type": "code",
      "source": [
        "import numpy as np\n",
        "from scipy.stats import spearmanr\n",
        "\n",
        "# Datos de muestra\n",
        "exercise_hours = np.random.uniform(0, 10, 100)  # 100 registros\n",
        "wellbeing_scores = np.sqrt(exercise_hours) * 10 + np.random.normal(0, 5, 100)  # Relación no lineal\n"
      ],
      "metadata": {
        "id": "9d5ySXYk2gDk"
      },
      "execution_count": null,
      "outputs": []
    },
    {
      "cell_type": "code",
      "source": [
        "# Correlación de Spearman\n",
        "correlation, p_value = spearmanr(exercise_hours, wellbeing_scores)\n",
        "\n",
        "# Imprimir resultados\n",
        "print(\"Coeficiente de correlación de Spearman:\", correlation)\n",
        "print(\"P-value:\", p_value)\n"
      ],
      "metadata": {
        "id": "hBFoixBU2e3P"
      },
      "execution_count": null,
      "outputs": []
    },
    {
      "cell_type": "markdown",
      "source": [
        "---\n",
        "## Gracias por completar este laboratorio!!"
      ],
      "metadata": {
        "id": "Nq5D6fRQycaA"
      }
    }
  ]
}